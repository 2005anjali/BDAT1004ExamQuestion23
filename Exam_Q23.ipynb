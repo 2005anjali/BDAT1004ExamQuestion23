{
 "cells": [
  {
   "cell_type": "code",
   "execution_count": null,
   "id": "b1999486",
   "metadata": {},
   "outputs": [],
   "source": [
    "# Question 23"
   ]
  },
  {
   "cell_type": "code",
   "execution_count": 3,
   "id": "15a24307",
   "metadata": {},
   "outputs": [],
   "source": [
    "class MyEmptyQueueError(Exception):\n",
    "    pass\n",
    "\n",
    "class MyFullQueueError(Exception):\n",
    "    pass\n",
    "\n",
    "class MyInsufficientElementsInQueueError(Exception):\n",
    "    pass\n",
    "\n",
    "class MyQueue:\n",
    "    'a simple queue class'\n",
    "    def __init__(self, max_size=4):\n",
    "        'initialize an empty list'\n",
    "        self.queue = []\n",
    "        self.max_size = max_size\n",
    "\n",
    "    def is_empty(self):\n",
    "        'returns True if queue is empty, False otherwise'\n",
    "        return len(self.queue) == 0\n",
    "\n",
    "    def is_full(self):\n",
    "        'returns True if queue is full, False otherwise'\n",
    "        return len(self.queue) == self.max_size\n",
    "\n",
    "    def enqueue(self, item):\n",
    "        'insert item at rear of queue'\n",
    "        if self.is_full():\n",
    "            raise MyFullQueueError('enqueue to full queue')\n",
    "        return self.queue.append(item)\n",
    "\n",
    "    def dequeue(self):\n",
    "        'remove and return item at front of queue'\n",
    "        if self.is_empty():\n",
    "            raise MyEmptyQueueError('dequeue from empty queue')\n",
    "        return self.queue.pop(0)\n",
    "\n",
    "    def dequeue_multiple(self, n):\n",
    "        'remove and return n items from the front of the queue'\n",
    "        if len(self.queue) < n:\n",
    "            raise MyInsufficientElementsInQueueError('not enough elements in queue')\n",
    "        removed_items = []\n",
    "        for _ in range(n):\n",
    "            removed_items.append(self.queue.pop(0))\n",
    "        return removed_items\n",
    "\n",
    "    def __add__(self, other):\n",
    "        'concatenate two queues'\n",
    "        new_queue = MyQueue(max_size=self.max_size)\n",
    "        new_queue.queue = self.queue + other.queue\n",
    "        if len(new_queue.queue) > self.max_size:\n",
    "            raise MyFullQueueError('resulting queue exceeds maximum size')\n",
    "        return new_queue"
   ]
  },
  {
   "cell_type": "code",
   "execution_count": 4,
   "id": "7c1a8e5f",
   "metadata": {},
   "outputs": [
    {
     "name": "stdout",
     "output_type": "stream",
     "text": [
      "enqueue to full queue\n",
      "1\n",
      "[2, 3]\n",
      "not enough elements in queue\n",
      "[1, 2, 3, 4]\n"
     ]
    }
   ],
   "source": [
    "# Create an instance of the Queue\n",
    "my_queue = MyQueue()\n",
    "\n",
    "# Enqueue some items\n",
    "my_queue.enqueue(1)\n",
    "my_queue.enqueue(2)\n",
    "my_queue.enqueue(3)\n",
    "my_queue.enqueue(4)\n",
    "\n",
    "# Try to enqueue more than the maximum size\n",
    "try:\n",
    "    my_queue.enqueue(5)\n",
    "except MyFullQueueError as e:\n",
    "    print(e)  # Output: enqueue to full queue\n",
    "\n",
    "# Dequeue an item\n",
    "print(my_queue.dequeue())  # Output: 1\n",
    "\n",
    "# Dequeue multiple items\n",
    "try:\n",
    "    print(my_queue.dequeue_multiple(2))  # Output: [2, 3]\n",
    "except MyInsufficientElementsInQueueError as e:\n",
    "    print(e)\n",
    "\n",
    "# Try to dequeue more items than available\n",
    "try:\n",
    "    print(my_queue.dequeue_multiple(3))\n",
    "except MyInsufficientElementsInQueueError as e:\n",
    "    print(e)  # Output: not enough elements in queue\n",
    "\n",
    "# Test addition of two queues\n",
    "my_queue1 = MyQueue()\n",
    "my_queue1.enqueue(1)\n",
    "my_queue1.enqueue(2)\n",
    "\n",
    "my_queue2 = MyQueue()\n",
    "my_queue2.enqueue(3)\n",
    "my_queue2.enqueue(4)\n",
    "\n",
    "try:\n",
    "    result_queue = my_queue1 + my_queue2\n",
    "    print(result_queue.queue)  # Output: [1, 2, 3, 4]\n",
    "except MyFullQueueError as e:\n",
    "    print(e)"
   ]
  },
  {
   "cell_type": "code",
   "execution_count": null,
   "id": "6759f3ca",
   "metadata": {},
   "outputs": [],
   "source": []
  }
 ],
 "metadata": {
  "kernelspec": {
   "display_name": "Python 3 (ipykernel)",
   "language": "python",
   "name": "python3"
  },
  "language_info": {
   "codemirror_mode": {
    "name": "ipython",
    "version": 3
   },
   "file_extension": ".py",
   "mimetype": "text/x-python",
   "name": "python",
   "nbconvert_exporter": "python",
   "pygments_lexer": "ipython3",
   "version": "3.11.5"
  }
 },
 "nbformat": 4,
 "nbformat_minor": 5
}
